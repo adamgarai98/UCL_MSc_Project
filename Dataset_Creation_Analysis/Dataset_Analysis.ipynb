{
  "nbformat": 4,
  "nbformat_minor": 0,
  "metadata": {
    "colab": {
      "provenance": [],
      "include_colab_link": true
    },
    "kernelspec": {
      "name": "python3",
      "display_name": "Python 3"
    },
    "language_info": {
      "name": "python"
    }
  },
  "cells": [
    {
      "cell_type": "markdown",
      "metadata": {
        "id": "view-in-github",
        "colab_type": "text"
      },
      "source": [
        "<a href=\"https://colab.research.google.com/github/adamgarai98/UCL_MSc_Project/blob/main/Dataset_Creation_Analysis/Dataset_Analysis.ipynb\" target=\"_parent\"><img src=\"https://colab.research.google.com/assets/colab-badge.svg\" alt=\"Open In Colab\"/></a>"
      ]
    },
    {
      "cell_type": "markdown",
      "source": [
        "# Preliminary analysis of the created dataframes from Dataset_Creation.ipynb"
      ],
      "metadata": {
        "id": "c52rkzWgWqbh"
      }
    },
    {
      "cell_type": "markdown",
      "source": [
        "#Imports"
      ],
      "metadata": {
        "id": "IS2kiZENxghy"
      }
    },
    {
      "cell_type": "code",
      "source": [
        "from google.colab import drive, files\n",
        "import os\n",
        "drive.mount('/content/drive/')\n",
        "\n",
        "# set script location to own development space\n",
        "MY_DEVELOPMENT_SPACE = '/content/drive/MyDrive/NHM_Project/'\n",
        "os.chdir(MY_DEVELOPMENT_SPACE)"
      ],
      "metadata": {
        "id": "OIAhIrMaGPa7",
        "colab": {
          "base_uri": "https://localhost:8080/"
        },
        "outputId": "32898388-e1a8-421f-a759-2bdd7b5ccfd4"
      },
      "execution_count": 1,
      "outputs": [
        {
          "output_type": "stream",
          "name": "stdout",
          "text": [
            "Mounted at /content/drive/\n"
          ]
        }
      ]
    },
    {
      "cell_type": "code",
      "source": [
        "import numpy as np\n",
        "import tensorflow as tf\n",
        "import pandas as pd\n",
        "import matplotlib.pyplot as plt\n",
        "import seaborn as sns\n",
        "from keras import layers\n",
        "from keras import models\n",
        "from keras import optimizers\n",
        "from keras.preprocessing.image import ImageDataGenerator\n",
        "from keras.utils import load_img\n",
        "from keras.utils import img_to_array\n",
        "from keras import applications\n",
        "from sklearn.preprocessing import LabelEncoder\n",
        "from sklearn.model_selection import train_test_split\n",
        "from sklearn.linear_model import LogisticRegression\n",
        "from sklearn import metrics\n",
        "import glob"
      ],
      "metadata": {
        "id": "gqW7gQSEU5TW"
      },
      "execution_count": 2,
      "outputs": []
    },
    {
      "cell_type": "code",
      "execution_count": 21,
      "metadata": {
        "id": "f8344789"
      },
      "outputs": [],
      "source": [
        "# Dataframe path, set to own path\n",
        "dataframe_path = MY_DEVELOPMENT_SPACE + \"dataframes/\""
      ]
    },
    {
      "cell_type": "markdown",
      "source": [
        "# Import all csv files as dataframes\n",
        "\n"
      ],
      "metadata": {
        "id": "ST92uk0tli7q"
      }
    },
    {
      "cell_type": "code",
      "source": [
        "dataset = pd.read_csv(dataframe_path + 'dataset.csv', index_col=0)\n",
        "\n",
        "lateralDF = pd.read_csv(dataframe_path + 'lateralDF.csv', index_col=0)\n",
        "dorsalDF = pd.read_csv(dataframe_path + 'dorsalDF.csv', index_col=0)\n",
        "\n",
        "trainDF_lat = pd.read_csv(dataframe_path + 'trainDF_lat.csv', index_col=0)\n",
        "validDF_lat = pd.read_csv(dataframe_path + 'validDF_lat.csv', index_col=0)\n",
        "testDF_lat = pd.read_csv(dataframe_path + 'testDF_lat.csv', index_col=0)\n",
        "\n",
        "trainDF_dors = pd.read_csv(dataframe_path + 'trainDF_dors.csv', index_col=0)\n",
        "validDF_dors = pd.read_csv(dataframe_path + 'validDF_dors.csv', index_col=0)\n",
        "testDF_dors = pd.read_csv(dataframe_path + 'testDF_dors.csv', index_col=0)"
      ],
      "metadata": {
        "id": "BezMHA48dKkn"
      },
      "execution_count": 4,
      "outputs": []
    },
    {
      "cell_type": "markdown",
      "source": [
        "# Analysis\n",
        "Simple and self explanatory analysis of given data"
      ],
      "metadata": {
        "id": "UsFUkrnLxtGn"
      }
    },
    {
      "cell_type": "code",
      "source": [
        "dataset.groupby(['target'])['angle'].value_counts()"
      ],
      "metadata": {
        "colab": {
          "base_uri": "https://localhost:8080/"
        },
        "id": "r8vNHS8Qcl7f",
        "outputId": "5e006879-ae70-45e8-f19a-f7a5b7ce102d"
      },
      "execution_count": 5,
      "outputs": [
        {
          "output_type": "execute_result",
          "data": {
            "text/plain": [
              "target                 angle  \n",
              "Ephemera vulgata       Dorsal      77\n",
              "                       Lateral     77\n",
              "Lebia viridis          Dorsal      63\n",
              "                       Lateral     63\n",
              "Leuctra fusca          Dorsal     116\n",
              "                       Lateral    116\n",
              "Limnephilus nigriceps  Dorsal      93\n",
              "                       Lateral     93\n",
              "Name: angle, dtype: int64"
            ]
          },
          "metadata": {},
          "execution_count": 5
        }
      ]
    },
    {
      "cell_type": "code",
      "source": [
        "dataset['angle'].value_counts()"
      ],
      "metadata": {
        "colab": {
          "base_uri": "https://localhost:8080/"
        },
        "id": "DLp1mIuecUrD",
        "outputId": "ec592772-2ceb-4822-ef91-cc12955da7a7"
      },
      "execution_count": 6,
      "outputs": [
        {
          "output_type": "execute_result",
          "data": {
            "text/plain": [
              "Lateral    349\n",
              "Dorsal     349\n",
              "Name: angle, dtype: int64"
            ]
          },
          "metadata": {},
          "execution_count": 6
        }
      ]
    },
    {
      "cell_type": "code",
      "source": [
        "target_counts=dataset['target'].value_counts()\n",
        "print(target_counts)"
      ],
      "metadata": {
        "colab": {
          "base_uri": "https://localhost:8080/"
        },
        "id": "E5WrpxdtVGpy",
        "outputId": "abf1aac4-8b35-470a-f781-53a0df6bad2e"
      },
      "execution_count": 7,
      "outputs": [
        {
          "output_type": "stream",
          "name": "stdout",
          "text": [
            "Leuctra fusca            232\n",
            "Limnephilus nigriceps    186\n",
            "Ephemera vulgata         154\n",
            "Lebia viridis            126\n",
            "Name: target, dtype: int64\n"
          ]
        }
      ]
    },
    {
      "cell_type": "code",
      "source": [
        "#Limnephilus nigriceps = caddisfly\n",
        "#Leuctra fusca = stonefly\n",
        "#Ephemera vulgata = mayfly\n",
        "#Lebia Veridis = Ground Beetle\n",
        "\n",
        "dataset.target.value_counts(normalize=True).mul(100).round(1).astype(str) + '%'"
      ],
      "metadata": {
        "colab": {
          "base_uri": "https://localhost:8080/"
        },
        "id": "tGhDtk-KXh7y",
        "outputId": "a468c043-7746-4103-ff2c-a7100666093e"
      },
      "execution_count": 8,
      "outputs": [
        {
          "output_type": "execute_result",
          "data": {
            "text/plain": [
              "Leuctra fusca            33.2%\n",
              "Limnephilus nigriceps    26.6%\n",
              "Ephemera vulgata         22.1%\n",
              "Lebia viridis            18.1%\n",
              "Name: target, dtype: object"
            ]
          },
          "metadata": {},
          "execution_count": 8
        }
      ]
    },
    {
      "cell_type": "code",
      "source": [
        "sns.countplot(x='target', data=dataset)"
      ],
      "metadata": {
        "colab": {
          "base_uri": "https://localhost:8080/",
          "height": 466
        },
        "id": "Q_gF4qoiVHU1",
        "outputId": "61b72ef5-ee90-45cb-b05d-2f11b8eeb5ff"
      },
      "execution_count": 9,
      "outputs": [
        {
          "output_type": "execute_result",
          "data": {
            "text/plain": [
              "<Axes: xlabel='target', ylabel='count'>"
            ]
          },
          "metadata": {},
          "execution_count": 9
        },
        {
          "output_type": "display_data",
          "data": {
            "text/plain": [
              "<Figure size 640x480 with 1 Axes>"
            ],
            "image/png": "[encoded data removed]"
          },
          "metadata": {}
        }
      ]
    },
    {
      "cell_type": "code",
      "source": [
        "trainDF_lat.shape"
      ],
      "metadata": {
        "colab": {
          "base_uri": "https://localhost:8080/"
        },
        "id": "rfMvXZQzZ0Cw",
        "outputId": "6f2fbddc-a967-48b7-81ee-c49fe4b7d7ce"
      },
      "execution_count": 10,
      "outputs": [
        {
          "output_type": "execute_result",
          "data": {
            "text/plain": [
              "(209, 3)"
            ]
          },
          "metadata": {},
          "execution_count": 10
        }
      ]
    },
    {
      "cell_type": "code",
      "source": [
        "validDF_lat.shape"
      ],
      "metadata": {
        "colab": {
          "base_uri": "https://localhost:8080/"
        },
        "id": "9A0w6QbTaQUy",
        "outputId": "4df58d68-28dd-467e-dd91-6828d63bfa0d"
      },
      "execution_count": 11,
      "outputs": [
        {
          "output_type": "execute_result",
          "data": {
            "text/plain": [
              "(70, 3)"
            ]
          },
          "metadata": {},
          "execution_count": 11
        }
      ]
    },
    {
      "cell_type": "code",
      "source": [
        "testDF_lat.shape"
      ],
      "metadata": {
        "colab": {
          "base_uri": "https://localhost:8080/"
        },
        "id": "_L2QNKtpaQkS",
        "outputId": "94d96fea-6764-4b85-9a1c-ab72faa34d67"
      },
      "execution_count": 12,
      "outputs": [
        {
          "output_type": "execute_result",
          "data": {
            "text/plain": [
              "(70, 3)"
            ]
          },
          "metadata": {},
          "execution_count": 12
        }
      ]
    },
    {
      "cell_type": "code",
      "source": [
        "lateralDF['target'].value_counts()"
      ],
      "metadata": {
        "colab": {
          "base_uri": "https://localhost:8080/"
        },
        "id": "RFXc7Oq8xlNC",
        "outputId": "3ccb8680-d171-47ac-f951-3c8f68c19811"
      },
      "execution_count": 13,
      "outputs": [
        {
          "output_type": "execute_result",
          "data": {
            "text/plain": [
              "Leuctra fusca            116\n",
              "Limnephilus nigriceps     93\n",
              "Ephemera vulgata          77\n",
              "Lebia viridis             63\n",
              "Name: target, dtype: int64"
            ]
          },
          "metadata": {},
          "execution_count": 13
        }
      ]
    },
    {
      "cell_type": "code",
      "source": [
        "dorsalDF['target'].value_counts()"
      ],
      "metadata": {
        "colab": {
          "base_uri": "https://localhost:8080/"
        },
        "id": "kyNd7CIgxyWc",
        "outputId": "f1d7e1b9-2d78-447b-c4ff-cdd6d7eda45c"
      },
      "execution_count": 14,
      "outputs": [
        {
          "output_type": "execute_result",
          "data": {
            "text/plain": [
              "Leuctra fusca            116\n",
              "Limnephilus nigriceps     93\n",
              "Ephemera vulgata          77\n",
              "Lebia viridis             63\n",
              "Name: target, dtype: int64"
            ]
          },
          "metadata": {},
          "execution_count": 14
        }
      ]
    },
    {
      "cell_type": "code",
      "source": [
        "trainDF_lat['target'].value_counts()"
      ],
      "metadata": {
        "colab": {
          "base_uri": "https://localhost:8080/"
        },
        "id": "Q8odNUufnKOI",
        "outputId": "3efe0cd8-5024-4b08-e503-740b507cfcf9"
      },
      "execution_count": 15,
      "outputs": [
        {
          "output_type": "execute_result",
          "data": {
            "text/plain": [
              "Leuctra fusca            74\n",
              "Limnephilus nigriceps    53\n",
              "Ephemera vulgata         43\n",
              "Lebia viridis            39\n",
              "Name: target, dtype: int64"
            ]
          },
          "metadata": {},
          "execution_count": 15
        }
      ]
    },
    {
      "cell_type": "code",
      "source": [
        "trainDF_dors['target'].value_counts()"
      ],
      "metadata": {
        "colab": {
          "base_uri": "https://localhost:8080/"
        },
        "id": "oDP1jXqLpopd",
        "outputId": "83e35313-58a2-4734-a7d2-a583e3f71d9c"
      },
      "execution_count": 16,
      "outputs": [
        {
          "output_type": "execute_result",
          "data": {
            "text/plain": [
              "Leuctra fusca            74\n",
              "Limnephilus nigriceps    53\n",
              "Ephemera vulgata         43\n",
              "Lebia viridis            39\n",
              "Name: target, dtype: int64"
            ]
          },
          "metadata": {},
          "execution_count": 16
        }
      ]
    },
    {
      "cell_type": "code",
      "source": [
        "validDF_lat['target'].value_counts()"
      ],
      "metadata": {
        "colab": {
          "base_uri": "https://localhost:8080/"
        },
        "id": "yiC_BK2gnLfE",
        "outputId": "d3eaea02-078d-4b14-aad7-7245660cefd8"
      },
      "execution_count": 17,
      "outputs": [
        {
          "output_type": "execute_result",
          "data": {
            "text/plain": [
              "Leuctra fusca            21\n",
              "Ephemera vulgata         18\n",
              "Limnephilus nigriceps    17\n",
              "Lebia viridis            14\n",
              "Name: target, dtype: int64"
            ]
          },
          "metadata": {},
          "execution_count": 17
        }
      ]
    },
    {
      "cell_type": "code",
      "source": [
        "validDF_dors['target'].value_counts()"
      ],
      "metadata": {
        "colab": {
          "base_uri": "https://localhost:8080/"
        },
        "id": "pvHPwah0qQHZ",
        "outputId": "8aa25aba-4a86-4ee2-bb94-edb868ec75b0"
      },
      "execution_count": 18,
      "outputs": [
        {
          "output_type": "execute_result",
          "data": {
            "text/plain": [
              "Leuctra fusca            21\n",
              "Ephemera vulgata         18\n",
              "Limnephilus nigriceps    17\n",
              "Lebia viridis            14\n",
              "Name: target, dtype: int64"
            ]
          },
          "metadata": {},
          "execution_count": 18
        }
      ]
    },
    {
      "cell_type": "code",
      "source": [
        "testDF_lat['target'].value_counts()"
      ],
      "metadata": {
        "colab": {
          "base_uri": "https://localhost:8080/"
        },
        "id": "t0pN4LwJnL2P",
        "outputId": "c3c812a7-d52b-4afb-8589-da0c02dadc51"
      },
      "execution_count": 19,
      "outputs": [
        {
          "output_type": "execute_result",
          "data": {
            "text/plain": [
              "Limnephilus nigriceps    23\n",
              "Leuctra fusca            21\n",
              "Ephemera vulgata         16\n",
              "Lebia viridis            10\n",
              "Name: target, dtype: int64"
            ]
          },
          "metadata": {},
          "execution_count": 19
        }
      ]
    },
    {
      "cell_type": "code",
      "source": [
        "testDF_dors['target'].value_counts()"
      ],
      "metadata": {
        "colab": {
          "base_uri": "https://localhost:8080/"
        },
        "id": "0fxnIuJqqWwg",
        "outputId": "4ef18be0-a2db-40d3-ac16-b60f92749ef2"
      },
      "execution_count": 20,
      "outputs": [
        {
          "output_type": "execute_result",
          "data": {
            "text/plain": [
              "Limnephilus nigriceps    23\n",
              "Leuctra fusca            21\n",
              "Ephemera vulgata         16\n",
              "Lebia viridis            10\n",
              "Name: target, dtype: int64"
            ]
          },
          "metadata": {},
          "execution_count": 20
        }
      ]
    }
  ]
}